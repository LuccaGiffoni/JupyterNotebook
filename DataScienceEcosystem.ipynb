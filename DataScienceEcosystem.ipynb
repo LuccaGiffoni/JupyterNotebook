{
 "cells": [
  {
   "cell_type": "markdown",
   "metadata": {},
   "source": [
    "<center>\n",
    "    <img src=\"https://cf-courses-data.s3.us.cloud-object-storage.appdomain.cloud/IBMDeveloperSkillsNetwork-DS0105EN-SkillsNetwork/labs/Module2/images/SN_web_lightmode.png\" width=\"300\" alt=\"cognitiveclass.ai logo\">\n",
    "</center>\n"
   ]
  },
  {
   "cell_type": "markdown",
   "metadata": {},
   "source": [
    "#### Add your code below following the instructions given in the course\n"
   ]
  },
  {
   "cell_type": "markdown",
   "metadata": {},
   "source": [
    "<h1>Data Science Tools and Ecosystem</h1>"
   ]
  },
  {
   "cell_type": "markdown",
   "metadata": {},
   "source": [
    "<p>In this notebook, using Jupyter Notebook's functions, Data Science Tools and Ecosystem are summarized*</p>"
   ]
  },
  {
   "cell_type": "markdown",
   "metadata": {},
   "source": [
    "<h2>Objectives</h2>"
   ]
  },
  {
   "cell_type": "markdown",
   "metadata": {},
   "source": [
    "<ul>\n",
    "    <li>Popular languages for Data Science (<b>using ordered lists</b>)</li>\n",
    "    <li>Popular libraries for Data Science (<b>using ordered lists</b>)</li>\n",
    "    <li>Popular tools for Data Science (<b>using tables</b>)</li>\n",
    "    <li>Arithmetic Expressions: <b>simple operations</b></li>\n",
    "    <li>Arithmetic Expressions <b>contextualized problem</b></li>\n",
    "</ul>"
   ]
  },
  {
   "cell_type": "markdown",
   "metadata": {},
   "source": [
    "<h2>Ordered Lists</h2>"
   ]
  },
  {
   "cell_type": "markdown",
   "metadata": {},
   "source": [
    "<h3>Languages</h3>"
   ]
  },
  {
   "cell_type": "markdown",
   "metadata": {},
   "source": [
    "<p>Some of the popular <b>languages</b> that Data Scientists use are:</p>"
   ]
  },
  {
   "cell_type": "markdown",
   "metadata": {},
   "source": [
    "<ol>\n",
    "    <li><b>Python</b>: Versatile language with rich libraries for data manipulation, analysis, and machine learning.</li>\n",
    "    <li><b>R</b>: Specialized for statistical computing, favored by statisticians and researchers.</li>\n",
    "    <li><b>SQL</b>: Essential for managing and querying relational databases in data science.</li>\n",
    "    <li><b>Java</b>: General-purpose language used for big data processing frameworks like Hadoop and Spark.</li>\n",
    "    <li><b>Julia</b>: High-performance language for numerical and scientific computing, balancing ease of use with computational efficiency.</li>\n",
    "</ol>"
   ]
  },
  {
   "cell_type": "markdown",
   "metadata": {},
   "source": [
    "<h3>Libraries</h3>"
   ]
  },
  {
   "cell_type": "markdown",
   "metadata": {},
   "source": [
    "<p>Some of the commonly used <b>libraries</b> used by Data Scientists include:</p>"
   ]
  },
  {
   "cell_type": "markdown",
   "metadata": {},
   "source": [
    "<ol>\n",
    "    <li><b>NumPy</b>: Fundamental library for numerical operations in Python, essential for array and matrix manipulations.</li>\n",
    "    <li><b>Pandas</b>: Data manipulation library in Python, providing data structures like DataFrame for efficient handling and analysis.</li>\n",
    "    <li><b>scikit-learn</b>: Machine learning library for Python, offering tools for classification, regression, clustering, and more.</li>\n",
    "    <li><b>TensorFlow</b>: Open-source machine learning library developed by Google, widely used for building and training deep learning models.</li>\n",
    "    <li><b>Matplotlib</b>: Comprehensive 2D plotting library for Python, essential for creating visualizations and data exploration in data science.</li>\n",
    "</ol>"
   ]
  },
  {
   "cell_type": "markdown",
   "metadata": {},
   "source": [
    "<h3>Tools</h3>"
   ]
  },
  {
   "cell_type": "markdown",
   "metadata": {},
   "source": [
    "| Data Science Tools | \n",
    "| --- | \n",
    "| Google Colab | \n",
    "| Anaconda |\n",
    "| JupyterLab |"
   ]
  },
  {
   "cell_type": "markdown",
   "metadata": {},
   "source": [
    "<h2>Arithmetic Expressions</h2>"
   ]
  },
  {
   "cell_type": "markdown",
   "metadata": {},
   "source": [
    "<h3>Examples using Python</h3>"
   ]
  },
  {
   "cell_type": "code",
   "execution_count": 2,
   "metadata": {},
   "outputs": [
    {
     "data": {
      "text/plain": [
       "17"
      ]
     },
     "execution_count": 2,
     "metadata": {},
     "output_type": "execute_result"
    }
   ],
   "source": [
    "(3 * 4) + 5"
   ]
  },
  {
   "cell_type": "markdown",
   "metadata": {},
   "source": [
    "<p>This a simple arithmetic expression to mutiply then add integers.</p>"
   ]
  },
  {
   "cell_type": "markdown",
   "metadata": {},
   "source": [
    "<h2>Functions</h2>"
   ]
  },
  {
   "cell_type": "markdown",
   "metadata": {},
   "source": [
    "<h3>Time Converter Function</h3>"
   ]
  },
  {
   "cell_type": "markdown",
   "metadata": {},
   "source": [
    "<p>This will convert 200 minutes to hours by diving by 60</p>"
   ]
  },
  {
   "cell_type": "code",
   "execution_count": 4,
   "metadata": {},
   "outputs": [
    {
     "data": {
      "text/plain": [
       "3.3333333333333335"
      ]
     },
     "execution_count": 4,
     "metadata": {},
     "output_type": "execute_result"
    }
   ],
   "source": [
    "200 / 60"
   ]
  },
  {
   "cell_type": "markdown",
   "metadata": {},
   "source": [
    "</n>\n",
    "<h2>Author</h2>\n",
    "<p>Lucca Giffoni</p>"
   ]
  }
 ],
 "metadata": {
  "kernelspec": {
   "display_name": "Python 3 (ipykernel)",
   "language": "python",
   "name": "python3"
  },
  "language_info": {
   "codemirror_mode": {
    "name": "ipython",
    "version": 3
   },
   "file_extension": ".py",
   "mimetype": "text/x-python",
   "name": "python",
   "nbconvert_exporter": "python",
   "pygments_lexer": "ipython3",
   "version": "3.11.5"
  }
 },
 "nbformat": 4,
 "nbformat_minor": 4
}
